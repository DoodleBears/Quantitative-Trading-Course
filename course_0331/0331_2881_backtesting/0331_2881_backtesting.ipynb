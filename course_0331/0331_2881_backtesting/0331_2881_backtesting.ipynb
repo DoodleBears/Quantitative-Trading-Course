{
 "cells": [
  {
   "cell_type": "code",
   "execution_count": null,
   "id": "231c11a6",
   "metadata": {},
   "outputs": [],
   "source": [
    "import yfinance as yf\n",
    "import pandas as pd\n",
    "from pandas_datareader import data\n",
    "from datetime import datetime\n",
    "\n",
    "yf.pdr_override() #以pandasreader常用的格式覆寫\n",
    "\n",
    "target_stock = '2881.tw'  #股票代號變數\n",
    "\n",
    "start_date = datetime(2010, 1, 1)\n",
    "end_date = datetime(2020, 6, 30) #設定資料起訖日期\n",
    "\n",
    "df = data.get_data_yahoo([target_stock], start_date, end_date) #將資料放到Dataframe裡面\n",
    "\n",
    "filename = f'data/{target_stock}.csv' #以股票名稱命名檔案，放在data資料夾下面\n",
    "\n",
    "df.to_csv(filename) #將df轉成CSV保存"
   ]
  },
  {
   "cell_type": "code",
   "execution_count": null,
   "id": "a7b646bc",
   "metadata": {},
   "outputs": [],
   "source": [
    "from backtesting import Backtest, Strategy #引入回測和交易策略功能\n",
    "\n",
    "from backtesting.lib import crossover #從lib子模組引入判斷均線交會功能\n",
    "from backtesting.test import SMA #從test子模組引入繪製均線功能\n",
    "\n",
    "import pandas as pd #引入pandas讀取股價歷史資料CSV檔"
   ]
  },
  {
   "cell_type": "code",
   "execution_count": null,
   "id": "f1c10c89",
   "metadata": {},
   "outputs": [],
   "source": [
    "class SmaCross(Strategy): #交易策略命名為SmaClass，使用backtesting.py的Strategy功能\n",
    "    n1 = 5 #設定第一條均線日數為5日(周線)\n",
    "    n2 = 20 #設定第二條均線日數為20日(月線)，這邊的日數可自由調整\n",
    "\n",
    "    def init(self):\n",
    "        self.sma1 = self.I(SMA, self.data.Close, self.n1) #定義第一條均線為sma1，使用backtesting.py的SMA功能算繪\n",
    "        self.sma2 = self.I(SMA, self.data.Close, self.n2) #定義第二條均線為sma2，使用backtesting.py的SMA功能算繪\n",
    "\n",
    "    def next(self):\n",
    "        if crossover(self.sma1, self.sma2): #如果周線衝上月線，表示近期是上漲的，則買入\n",
    "            self.buy()\n",
    "        elif crossover(self.sma2, self.sma1): #如果周線再與月線交叉，表示開始下跌了，則賣出\n",
    "            self.sell()"
   ]
  },
  {
   "cell_type": "code",
   "execution_count": null,
   "id": "8747d898",
   "metadata": {},
   "outputs": [],
   "source": [
    "# stock = \"2881.tw\" #設定要測試的股票標的名稱\n",
    "\n",
    "df = pd.read_csv(f\"data/{target_stock}.csv\", index_col=0) #pandas讀取資料，並將第1欄作為索引欄\n",
    "df = df.interpolate() #CSV檔案中若有缺漏，會使用內插法自動補值，不一定需要的功能\n",
    "df.index = pd.to_datetime(df.index) #將索引欄資料轉換成pandas的時間格式，backtesting才有辦法排序"
   ]
  },
  {
   "cell_type": "code",
   "execution_count": null,
   "id": "efa7077b",
   "metadata": {},
   "outputs": [],
   "source": [
    "test = Backtest(df, SmaCross, cash=1000000, commission=.004)\n",
    "# 指定回測程式為test，在Backtest函數中依序放入(資料來源、策略、現金、手續費)\n",
    "\n",
    "result = test.run()\n",
    "#執行回測程式並存到result中"
   ]
  },
  {
   "cell_type": "code",
   "execution_count": null,
   "id": "ab8a5f2c",
   "metadata": {},
   "outputs": [],
   "source": [
    "print(result) # 直接print文字結果\n",
    "\n",
    "# Equity Final 最后账户的钱\n",
    "# Return 回报率\n",
    "# Buy & Hold Return 买进后持有的回报率\n",
    "test.plot(filename=f\"backtest_result/{target_stock}.html\") #將線圖網頁依照指定檔名保存"
   ]
  },
  {
   "cell_type": "code",
   "execution_count": null,
   "id": "02b611e0",
   "metadata": {},
   "outputs": [],
   "source": []
  }
 ],
 "metadata": {
  "kernelspec": {
   "display_name": "Python 3",
   "language": "python",
   "name": "python3"
  },
  "language_info": {
   "codemirror_mode": {
    "name": "ipython",
    "version": 3
   },
   "file_extension": ".py",
   "mimetype": "text/x-python",
   "name": "python",
   "nbconvert_exporter": "python",
   "pygments_lexer": "ipython3",
   "version": "3.9.6"
  }
 },
 "nbformat": 4,
 "nbformat_minor": 5
}
