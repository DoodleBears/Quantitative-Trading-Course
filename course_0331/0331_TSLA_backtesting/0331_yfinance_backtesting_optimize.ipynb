{
 "cells": [
  {
   "cell_type": "code",
   "execution_count": 6,
   "id": "32ad4e3f",
   "metadata": {},
   "outputs": [
    {
     "name": "stdout",
     "output_type": "stream",
     "text": [
      "[*********************100%***********************]  1 of 1 completed\n"
     ]
    }
   ],
   "source": [
    "import yfinance as yf\n",
    "import pandas as pd\n",
    "#import pandas_datareader as pdr\n",
    "from pandas_datareader import data\n",
    "from datetime import datetime\n",
    "\n",
    "yf.pdr_override() #以pandasreader常用的格式覆寫\n",
    "\n",
    "target_stock = 'TSLA'  #股票代號變數\n",
    "\n",
    "start_date = datetime(2010, 1, 1)\n",
    "end_date = datetime(2020, 11, 4)    #設定資料起訖日期\n",
    "\n",
    "df = data.get_data_yahoo([target_stock], start_date, end_date) #將資料放到Dataframe裡面\n",
    "\n",
    "filename = f'./data/{target_stock}.csv' #以股票名稱命名檔案，放在既定工作目錄user下面的data資料夾下面\n",
    "\n",
    "df.to_csv(filename) #將df轉成CSV保存"
   ]
  },
  {
   "cell_type": "code",
   "execution_count": 7,
   "id": "e8423626",
   "metadata": {},
   "outputs": [],
   "source": [
    "from backtesting import Backtest, Strategy #引入回測和交易策略功能\n",
    "\n",
    "from backtesting.lib import crossover #從lib子模組引入判斷均線交會功能\n",
    "from backtesting.test import SMA #從test子模組引入繪製均線功能\n",
    "\n",
    "import pandas as pd #引入pandas讀取股價歷史資料CSV檔"
   ]
  },
  {
   "cell_type": "code",
   "execution_count": 8,
   "id": "827f7a54",
   "metadata": {},
   "outputs": [],
   "source": [
    "class SmaCross(Strategy): #交易策略命名為SmaClass，使用backtesting.py的Strategy功能\n",
    "    n1 = 5 #設定第一條均線日數為5日(周線)\n",
    "    n2 = 20 #設定第二條均線日數為20日(月線)，這邊的日數可自由調整\n",
    "\n",
    "    def init(self):\n",
    "        self.sma1 = self.I(SMA, self.data.Close, self.n1) #定義第一條均線為sma1，使用backtesting.py的SMA功能算繪\n",
    "        self.sma2 = self.I(SMA, self.data.Close, self.n2) #定義第二條均線為sma2，使用backtesting.py的SMA功能算繪\n",
    "\n",
    "    def next(self):\n",
    "        if crossover(self.sma1, self.sma2): #如果周線衝上月線，表示近期是上漲的，則買入\n",
    "            self.buy()\n",
    "        elif crossover(self.sma2, self.sma1): #如果周線再與月線交叉，表示開始下跌了，則賣出\n",
    "            self.sell()\n",
    "            \n",
    "stock = \"TSLA\" #設定要測試的股票標的名稱\n",
    "\n",
    "df = pd.read_csv(f'./data/{stock}.csv', index_col=0) #pandas讀取資料，並將第1欄作為索引欄\n",
    "df = df.interpolate() #CSV檔案中若有缺漏，會使用內插法自動補值，不一定需要的功能\n",
    "df.index = pd.to_datetime(df.index) #將索引欄資料轉換成pandas的時間格式，backtesting才有辦法排序\n",
    "\n",
    "test = Backtest(df, SmaCross, cash=10000, commission=.002)\n",
    "# 指定回測程式為test，在Backtest函數中依序放入(資料來源、策略、現金、手續費)\n"
   ]
  },
  {
   "cell_type": "code",
   "execution_count": 9,
   "id": "4e56b375",
   "metadata": {},
   "outputs": [
    {
     "data": {
      "application/vnd.jupyter.widget-view+json": {
       "model_id": "",
       "version_major": 2,
       "version_minor": 0
      },
      "text/plain": [
       "  0%|          | 0/9 [00:00<?, ?it/s]"
      ]
     },
     "metadata": {},
     "output_type": "display_data"
    },
    {
     "name": "stdout",
     "output_type": "stream",
     "text": [
      "Original strategy\n",
      "Start                     2010-06-29 00:00:00\n",
      "End                       2020-11-03 00:00:00\n",
      "Duration                   3780 days 00:00:00\n",
      "Exposure Time [%]                   15.726889\n",
      "Equity Final [$]                          0.0\n",
      "Equity Peak [$]                  10564.204147\n",
      "Return [%]                             -100.0\n",
      "Buy & Hold Return [%]             8771.913033\n",
      "Return (Ann.) [%]                         0.0\n",
      "Volatility (Ann.) [%]             1523.196244\n",
      "Sharpe Ratio                              0.0\n",
      "Sortino Ratio                             0.0\n",
      "Calmar Ratio                              0.0\n",
      "Max. Drawdown [%]                      -100.0\n",
      "Avg. Drawdown [%]                      -100.0\n",
      "Max. Drawdown Duration     3736 days 00:00:00\n",
      "Avg. Drawdown Duration     3736 days 00:00:00\n",
      "# Trades                                    1\n",
      "Win Rate [%]                              0.0\n",
      "Best Trade [%]                     -100.50803\n",
      "Worst Trade [%]                    -100.50803\n",
      "Avg. Trade [%]                              0\n",
      "Max. Trade Duration         593 days 00:00:00\n",
      "Avg. Trade Duration         593 days 00:00:00\n",
      "Profit Factor                             0.0\n",
      "Expectancy [%]                     -100.50803\n",
      "SQN                                       NaN\n",
      "_strategy                            SmaCross\n",
      "_equity_curve                          Equ...\n",
      "_trades                      Size  EntryBa...\n",
      "dtype: object\n",
      "\n",
      "Optimize strategy\n",
      "Start                     2010-06-29 00:00:00\n",
      "End                       2020-11-03 00:00:00\n",
      "Duration                   3780 days 00:00:00\n",
      "Exposure Time [%]                   98.810894\n",
      "Equity Final [$]               1148474.583595\n",
      "Equity Peak [$]                 1396792.34333\n",
      "Return [%]                       11384.745836\n",
      "Buy & Hold Return [%]             8771.913033\n",
      "Return (Ann.) [%]                   58.174753\n",
      "Volatility (Ann.) [%]               94.414325\n",
      "Sharpe Ratio                         0.616164\n",
      "Sortino Ratio                        1.634303\n",
      "Calmar Ratio                         0.959562\n",
      "Max. Drawdown [%]                  -60.626376\n",
      "Avg. Drawdown [%]                   -8.636602\n",
      "Max. Drawdown Duration      942 days 00:00:00\n",
      "Avg. Drawdown Duration       50 days 00:00:00\n",
      "# Trades                                    1\n",
      "Win Rate [%]                            100.0\n",
      "Best Trade [%]                   11386.297561\n",
      "Worst Trade [%]                  11386.297561\n",
      "Avg. Trade [%]                   11386.297561\n",
      "Max. Trade Duration        3736 days 00:00:00\n",
      "Avg. Trade Duration        3736 days 00:00:00\n",
      "Profit Factor                             NaN\n",
      "Expectancy [%]                   11386.297561\n",
      "SQN                                       NaN\n",
      "_strategy                 SmaCross(n1=25,n...\n",
      "_equity_curve                             ...\n",
      "_trades                      Size  EntryBa...\n",
      "dtype: object\n"
     ]
    }
   ],
   "source": [
    "result = test.run() #原始結果\n",
    "\n",
    "opt_result = test.optimize(n1=range(5, 50, 5),  #將回測機器加入optimize屬性，定義短均線的周期為5~50(每次加5)，長均線的周期為10~120(每次加5)\n",
    "                    n2=range(10, 120, 5),\n",
    "                    maximize='Equity Final [$]',  #最佳化目標為最終資產最大化\n",
    "                    constraint=lambda p: p.n1 < p.n2)  #限制n1及n2的範圍，只會計算n1小於n2的情況\n",
    "      \n",
    "print(\"Original strategy\")\n",
    "print(result) #印出result結果\n",
    "print() #空一行\n",
    "print(\"Optimize strategy\")\n",
    "print(opt_result)  #印出opt_result結果"
   ]
  },
  {
   "cell_type": "code",
   "execution_count": null,
   "id": "8ef98576",
   "metadata": {},
   "outputs": [],
   "source": []
  }
 ],
 "metadata": {
  "kernelspec": {
   "display_name": "Python 3",
   "language": "python",
   "name": "python3"
  },
  "language_info": {
   "codemirror_mode": {
    "name": "ipython",
    "version": 3
   },
   "file_extension": ".py",
   "mimetype": "text/x-python",
   "name": "python",
   "nbconvert_exporter": "python",
   "pygments_lexer": "ipython3",
   "version": "3.8.8"
  }
 },
 "nbformat": 4,
 "nbformat_minor": 5
}
